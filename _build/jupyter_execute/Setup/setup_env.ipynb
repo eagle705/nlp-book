{
 "cells": [
  {
   "cell_type": "markdown",
   "metadata": {
    "id": "UotdZbfstN6q"
   },
   "source": [
    "# 패키지 설치 및 환경설정"
   ]
  },
  {
   "cell_type": "markdown",
   "metadata": {
    "id": "oXT-GmOaQKPM"
   },
   "source": [
    "## 패키지설치\n",
    "개발에 사용할 파이썬 패키지를 설치합니다"
   ]
  },
  {
   "cell_type": "code",
   "execution_count": null,
   "metadata": {
    "id": "4Gea5Mj8QImU"
   },
   "outputs": [],
   "source": [
    "!pip install transformers\n",
    "!pip install torch\n",
    "!pip install sklearn\n",
    "!pip install Korpora\n",
    "!pip install argparse\n",
    "!pip install bertviz"
   ]
  },
  {
   "cell_type": "markdown",
   "metadata": {
    "id": "W_aPdlqEQQak"
   },
   "source": [
    "우분투 환경에 한글 폰트를 설치해줍니다"
   ]
  },
  {
   "cell_type": "code",
   "execution_count": null,
   "metadata": {
    "id": "yXGhpQEPjGZ0"
   },
   "outputs": [],
   "source": [
    "!apt-get update -qq\n",
    "!apt-get install fonts-nanum* -qq \n",
    "!apt-get install -y tree"
   ]
  },
  {
   "cell_type": "markdown",
   "metadata": {
    "id": "KumMcvqrSfhQ"
   },
   "source": [
    "## 코랩 환경"
   ]
  },
  {
   "cell_type": "code",
   "execution_count": 8,
   "metadata": {
    "colab": {
     "base_uri": "https://localhost:8080/"
    },
    "id": "jWWcMARSkzLp",
    "outputId": "79ccd70d-ccb2-4aa6-fb4c-a3ce594eaba0"
   },
   "outputs": [
    {
     "name": "stdout",
     "output_type": "stream",
     "text": [
      "NVIDIA-SMI has failed because it couldn't communicate with the NVIDIA driver. Make sure that the latest NVIDIA driver is installed and running.\n",
      "\n"
     ]
    }
   ],
   "source": [
    "# GPU 확인\n",
    "!nvidia-smi"
   ]
  },
  {
   "cell_type": "code",
   "execution_count": 9,
   "metadata": {
    "colab": {
     "base_uri": "https://localhost:8080/"
    },
    "id": "fpKxwqeYuLW5",
    "outputId": "cd210fc7-5105-40f9-e5f9-892cfae3ea5f"
   },
   "outputs": [
    {
     "name": "stdout",
     "output_type": "stream",
     "text": [
      "Your runtime has 13.6 gigabytes of available RAM\n",
      "\n",
      "To enable a high-RAM runtime, select the Runtime > \"Change runtime type\"\n",
      "menu, and then select High-RAM in the Runtime shape dropdown. Then, \n",
      "re-execute this cell.\n"
     ]
    }
   ],
   "source": [
    "# 추가 메모리\n",
    "from psutil import virtual_memory\n",
    "ram_gb = virtual_memory().total / 1e9\n",
    "print('Your runtime has {:.1f} gigabytes of available RAM\\n'.format(ram_gb))\n",
    "\n",
    "if ram_gb < 20:\n",
    "  print('To enable a high-RAM runtime, select the Runtime > \"Change runtime type\"')\n",
    "  print('menu, and then select High-RAM in the Runtime shape dropdown. Then, ')\n",
    "  print('re-execute this cell.')\n",
    "else:\n",
    "  print('You are using a high-RAM runtime!')"
   ]
  },
  {
   "cell_type": "markdown",
   "metadata": {
    "id": "aH7FUcZetVYa"
   },
   "source": [
    "## 구글 드라이브 연결"
   ]
  },
  {
   "cell_type": "markdown",
   "metadata": {
    "id": "KQFL1E1MRsQy"
   },
   "source": [
    "코랩 환경을 구글드라이브와 연동해줍니다\n",
    "코드 실행 후 나오는 URL을 클릭후 코드를 복사해서 입력해줍니다\n",
    "\n",
    "```\n",
    "Go to this URL in a browser: https://accounts.google.com/o/oauth2/auth?client_id=.....\n",
    "Enter your authorization code: <코드입력>\n",
    "```"
   ]
  },
  {
   "cell_type": "code",
   "execution_count": 3,
   "metadata": {
    "colab": {
     "base_uri": "https://localhost:8080/"
    },
    "id": "vT-Q5H3Ptivd",
    "outputId": "d473a00b-8fd2-4dc6-d5cf-002e50e323e4"
   },
   "outputs": [
    {
     "name": "stdout",
     "output_type": "stream",
     "text": [
      "Mounted at /gdrive\n"
     ]
    }
   ],
   "source": [
    " # colab 환경 마운트\n",
    "from google.colab import drive\n",
    "drive.mount('/gdrive', force_remount=True)"
   ]
  },
  {
   "cell_type": "code",
   "execution_count": 4,
   "metadata": {
    "colab": {
     "base_uri": "https://localhost:8080/"
    },
    "id": "L91rhuDYtoRG",
    "outputId": "3656d954-13ef-4341-e67f-5eba9811a634"
   },
   "outputs": [
    {
     "name": "stdout",
     "output_type": "stream",
     "text": [
      "MyDrive  Othercomputers\n"
     ]
    }
   ],
   "source": [
    "!ls /gdrive"
   ]
  },
  {
   "cell_type": "markdown",
   "metadata": {
    "id": "41a7_gaUSlwz"
   },
   "source": [
    "## Matplotlib 한글설정"
   ]
  },
  {
   "cell_type": "code",
   "execution_count": 10,
   "metadata": {
    "colab": {
     "base_uri": "https://localhost:8080/"
    },
    "id": "UxoOIzKnkS0w",
    "outputId": "9d414252-2c66-4e00-8527-996843d40ba0"
   },
   "outputs": [
    {
     "name": "stdout",
     "output_type": "stream",
     "text": [
      "3.2.2\n",
      "/usr/local/lib/python3.7/dist-packages/matplotlib/__init__.py\n",
      "/root/.config/matplotlib\n",
      "/root/.cache/matplotlib\n",
      "font 리스트: ['/usr/share/fonts/truetype/nanum/NanumSquareEB.ttf', '/usr/share/fonts/truetype/liberation/LiberationSans-Regular.ttf', '/usr/share/fonts/truetype/nanum/NanumPen.ttf', '/usr/share/fonts/truetype/nanum/NanumGothicCoding.ttf', '/usr/share/fonts/truetype/liberation/LiberationSerif-Italic.ttf', '/usr/share/fonts/truetype/nanum/NanumGothic.ttf', '/usr/share/fonts/truetype/nanum/NanumSquareR.ttf', '/usr/share/fonts/truetype/nanum/NanumMyeongjoExtraBold.ttf', '/usr/share/fonts/truetype/nanum/NanumMyeongjoBold.ttf', '/usr/share/fonts/truetype/liberation/LiberationMono-Regular.ttf', '/usr/share/fonts/truetype/nanum/NanumBarunGothicLight.ttf', '/usr/share/fonts/truetype/nanum/NanumMyeongjoEcoBold.ttf', '/usr/share/fonts/truetype/liberation/LiberationMono-Bold.ttf', '/usr/share/fonts/truetype/liberation/LiberationSansNarrow-Bold.ttf', '/usr/share/fonts/truetype/nanum/NanumBarunpenR.ttf', '/usr/share/fonts/truetype/nanum/NanumSquareRoundL.ttf', '/usr/share/fonts/truetype/nanum/NanumBarunGothicBold.ttf', '/usr/share/fonts/truetype/nanum/NanumBarunGothic.ttf', '/usr/share/fonts/truetype/liberation/LiberationSerif-Regular.ttf', '/usr/share/fonts/truetype/nanum/NanumBarunpenB.ttf', '/usr/share/fonts/truetype/liberation/LiberationSerif-BoldItalic.ttf', '/usr/share/fonts/truetype/liberation/LiberationSans-Italic.ttf', '/usr/share/fonts/truetype/liberation/LiberationSansNarrow-BoldItalic.ttf', '/usr/share/fonts/truetype/nanum/NanumMyeongjo.ttf', '/usr/share/fonts/truetype/liberation/LiberationSerif-Bold.ttf', '/usr/share/fonts/truetype/liberation/LiberationSans-BoldItalic.ttf', '/usr/share/fonts/truetype/liberation/LiberationMono-BoldItalic.ttf', '/usr/share/fonts/truetype/liberation/LiberationMono-Italic.ttf', '/usr/share/fonts/truetype/nanum/NanumBarunGothicUltraLight.ttf', '/usr/share/fonts/truetype/liberation/LiberationSansNarrow-Regular.ttf', '/usr/share/fonts/truetype/nanum/NanumMyeongjoEco.ttf', '/usr/share/fonts/truetype/nanum/NanumSquareRoundR.ttf', '/usr/share/fonts/truetype/nanum/NanumSquareRoundB.ttf', '/usr/share/fonts/truetype/nanum/NanumGothicLight.ttf', '/usr/share/fonts/truetype/nanum/NanumGothicExtraBold.ttf', '/usr/share/fonts/truetype/nanum/NanumGothicEco.ttf', '/usr/share/fonts/truetype/liberation/LiberationSans-Bold.ttf', '/usr/share/fonts/truetype/nanum/NanumGothicCoding-Bold.ttf', '/usr/share/fonts/truetype/nanum/NanumMyeongjoEcoExtraBold.ttf', '/usr/share/fonts/truetype/nanum/NanumSquareL.ttf', '/usr/share/fonts/truetype/nanum/NanumBrush.ttf', '/usr/share/fonts/truetype/nanum/NanumGothicEcoBold.ttf', '/usr/share/fonts/truetype/nanum/NanumSquareRoundEB.ttf', '/usr/share/fonts/truetype/liberation/LiberationSansNarrow-Italic.ttf', '/usr/share/fonts/truetype/humor-sans/Humor-Sans.ttf', '/usr/share/fonts/truetype/nanum/NanumSquareB.ttf', '/usr/share/fonts/truetype/nanum/NanumGothicEcoExtraBold.ttf', '/usr/share/fonts/truetype/nanum/NanumGothicBold.ttf']\n",
      "(\"nanum font list: ['/usr/share/fonts/truetype/nanum/NanumSquareEB.ttf', \"\n",
      " \"'/usr/share/fonts/truetype/nanum/NanumPen.ttf', \"\n",
      " \"'/usr/share/fonts/truetype/nanum/NanumGothicCoding.ttf', \"\n",
      " \"'/usr/share/fonts/truetype/nanum/NanumGothic.ttf', \"\n",
      " \"'/usr/share/fonts/truetype/nanum/NanumSquareR.ttf', \"\n",
      " \"'/usr/share/fonts/truetype/nanum/NanumMyeongjoExtraBold.ttf', \"\n",
      " \"'/usr/share/fonts/truetype/nanum/NanumMyeongjoBold.ttf', \"\n",
      " \"'/usr/share/fonts/truetype/nanum/NanumBarunGothicLight.ttf', \"\n",
      " \"'/usr/share/fonts/truetype/nanum/NanumMyeongjoEcoBold.ttf', \"\n",
      " \"'/usr/share/fonts/truetype/nanum/NanumBarunpenR.ttf', \"\n",
      " \"'/usr/share/fonts/truetype/nanum/NanumSquareRoundL.ttf', \"\n",
      " \"'/usr/share/fonts/truetype/nanum/NanumBarunGothicBold.ttf', \"\n",
      " \"'/usr/share/fonts/truetype/nanum/NanumBarunGothic.ttf', \"\n",
      " \"'/usr/share/fonts/truetype/nanum/NanumBarunpenB.ttf', \"\n",
      " \"'/usr/share/fonts/truetype/nanum/NanumMyeongjo.ttf', \"\n",
      " \"'/usr/share/fonts/truetype/nanum/NanumBarunGothicUltraLight.ttf', \"\n",
      " \"'/usr/share/fonts/truetype/nanum/NanumMyeongjoEco.ttf', \"\n",
      " \"'/usr/share/fonts/truetype/nanum/NanumSquareRoundR.ttf', \"\n",
      " \"'/usr/share/fonts/truetype/nanum/NanumSquareRoundB.ttf', \"\n",
      " \"'/usr/share/fonts/truetype/nanum/NanumGothicLight.ttf', \"\n",
      " \"'/usr/share/fonts/truetype/nanum/NanumGothicExtraBold.ttf', \"\n",
      " \"'/usr/share/fonts/truetype/nanum/NanumGothicEco.ttf', \"\n",
      " \"'/usr/share/fonts/truetype/nanum/NanumGothicCoding-Bold.ttf', \"\n",
      " \"'/usr/share/fonts/truetype/nanum/NanumMyeongjoEcoExtraBold.ttf', \"\n",
      " \"'/usr/share/fonts/truetype/nanum/NanumSquareL.ttf', \"\n",
      " \"'/usr/share/fonts/truetype/nanum/NanumBrush.ttf', \"\n",
      " \"'/usr/share/fonts/truetype/nanum/NanumGothicEcoBold.ttf', \"\n",
      " \"'/usr/share/fonts/truetype/nanum/NanumSquareRoundEB.ttf', \"\n",
      " \"'/usr/share/fonts/truetype/nanum/NanumSquareB.ttf', \"\n",
      " \"'/usr/share/fonts/truetype/nanum/NanumGothicEcoExtraBold.ttf', \"\n",
      " \"'/usr/share/fonts/truetype/nanum/NanumGothicBold.ttf']\")\n",
      "font_fname: /usr/share/fonts/truetype/nanum/NanumGothicEco.ttf\n",
      "font_name: NanumGothic Eco\n",
      "Python 3.7.12\n",
      "설정 폰트 글꼴: ['NanumGothic Eco'], 설정 폰트 사이즈: 15.0\n"
     ]
    }
   ],
   "source": [
    "#### Matplotlib 한글설정\n",
    "%matplotlib inline  \n",
    "from pprint import pprint\n",
    "import matplotlib as mpl  # 기본 설정 만지는 용도\n",
    "import matplotlib.pyplot as plt  # 그래프 그리는 용도\n",
    "import matplotlib.font_manager as fm  # 폰트 관련 용도\n",
    "\n",
    "print(mpl.__version__)\n",
    "print(mpl.__file__)\n",
    "print(mpl.get_configdir())\n",
    "print(mpl.get_cachedir())\n",
    "\n",
    "\n",
    "print(f\"font 리스트: {fm.findSystemFonts()}\")\n",
    "nanum_font = [font for font in fm.findSystemFonts() if \"Nanum\" in font]\n",
    "pprint(f\"nanum font list: {nanum_font}\")\n",
    "\n",
    "font_fname = [fname for fname in fm.findSystemFonts() if 'NanumGothicEco' in fname][0]\n",
    "print(f\"font_fname: {font_fname}\")\n",
    "font_name = fm.FontProperties(fname=font_fname).get_name()\n",
    "print(f\"font_name: {font_name}\")\n",
    "\n",
    "# 현재 설정되어 있는 폰트 사이즈와 글꼴을 알아보자\n",
    "!python --version\n",
    "def current_font():\n",
    "  print(f\"설정 폰트 글꼴: {plt.rcParams['font.family']}, 설정 폰트 사이즈: {plt.rcParams['font.size']}\")  # 파이썬 3.6 이상 사용가능하다\n",
    "        \n",
    "\n",
    "# !rm -rf ~/.cache/matplotlib # rebuild해도 안될 때, 캐시 삭제후 런타임 재시작\n",
    "fm._rebuild()\n",
    "mpl.rcParams['axes.unicode_minus'] = False\n",
    "# plt.rc('font', family=font_name)\n",
    "\n",
    "# rcParams[]로 두께, 글씨크기 등 여러가지 설정 가능\n",
    "# figure가 한개의 canvas를 의미\n",
    "plt.rcParams[\"font.family\"] = font_name \n",
    "plt.rcParams[\"font.size\"] = 15 # default 10.0\n",
    "current_font()"
   ]
  },
  {
   "cell_type": "code",
   "execution_count": null,
   "metadata": {
    "id": "Nc5wLT2SR_2B"
   },
   "outputs": [],
   "source": []
  }
 ],
 "metadata": {
  "colab": {
   "collapsed_sections": [],
   "name": "setup_env.ipynb",
   "provenance": []
  },
  "kernelspec": {
   "display_name": "Python 3",
   "name": "python3"
  },
  "language_info": {
   "name": "python"
  }
 },
 "nbformat": 4,
 "nbformat_minor": 0
}