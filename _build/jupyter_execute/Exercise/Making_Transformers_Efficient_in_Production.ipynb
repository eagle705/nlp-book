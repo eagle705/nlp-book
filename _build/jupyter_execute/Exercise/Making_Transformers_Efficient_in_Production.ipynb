{
 "cells": [
  {
   "cell_type": "markdown",
   "metadata": {
    "id": "KVRugL-SphXw"
   },
   "source": [
    "# Making Transformers Efficient in Production\n",
    "이번장에서는 PLM을 제품 및 서비스에 적용하기 위해 경량화하는 스킬들에 대해서 다뤄보고자합니다. 대체로 PLM은 SOTA의 좋은 성능을 갖지만, 사용하기엔 모델이 너무 크고 느려서 서비스 요구사항을 만족시키기 쉽지 않다는 어려움이 있습니다. 좀 더 빠르고 압축된 형태의 모델을 만들면 좋겠지만, 모델 크기를 줄이면 모델의 capacity 또한 감소하게 되고 전체적인 성능이 하락하게 될 수 있습니다. 이런 문제를 해결하기 위해 다음과 같은 많은 연구들이 진행되었습니다.\n",
    "- knowledge distillation\n",
    "- quantization\n",
    "- pruning\n",
    "- graph optimization\n",
    "\n",
    "로블록스 팀에서 발표한 [\"How We Scaled Bert To Serve 1+ Billion Daily Requests on CPUs\"](https://blog.roblox.com/2020/05/scaled-bert-serve-1-billion-daily-requests-cpus/) 포스팅을 보면 knowledge distillation과 quantization을 적용했을때 30배 이상으로 처리량을 늘릴 수 있게 된것을 확인 할 수 있습니다.\n",
    "![스케일링버트](https://blog.roblox.com/wp-content/uploads/2020/05/bert_1a.jpg)\n"
   ]
  },
  {
   "cell_type": "markdown",
   "metadata": {
    "id": "qbM_KLKsrq_C"
   },
   "source": [
    "## Intent Detection as a Case Study\n",
    "인텐트 디텍션 문제를 예로 들면서, 모델 경량화 작업을 진행해보겠습니다. 베이스라인으로 CLINC150 dataset에 파인튜닝된 BERT-base 모델을 사용하겠습니다."
   ]
  },
  {
   "cell_type": "code",
   "execution_count": 1,
   "metadata": {
    "colab": {
     "base_uri": "https://localhost:8080/"
    },
    "id": "vb5UwGTupc5V",
    "outputId": "03d3b7bd-1dd1-4572-c19f-49e102ef2b75"
   },
   "outputs": [
    {
     "name": "stdout",
     "output_type": "stream",
     "text": [
      "\u001b[K     |████████████████████████████████| 3.4 MB 10.2 MB/s \n",
      "\u001b[K     |████████████████████████████████| 298 kB 75.1 MB/s \n",
      "\u001b[K     |████████████████████████████████| 308 kB 87.5 MB/s \n",
      "\u001b[K     |████████████████████████████████| 132 kB 79.2 MB/s \n",
      "\u001b[K     |████████████████████████████████| 1.1 MB 59.6 MB/s \n",
      "\u001b[K     |████████████████████████████████| 243 kB 68.9 MB/s \n",
      "\u001b[K     |████████████████████████████████| 61 kB 634 kB/s \n",
      "\u001b[K     |████████████████████████████████| 80 kB 10.3 MB/s \n",
      "\u001b[K     |████████████████████████████████| 209 kB 77.1 MB/s \n",
      "\u001b[K     |████████████████████████████████| 160 kB 69.9 MB/s \n",
      "\u001b[K     |████████████████████████████████| 271 kB 72.6 MB/s \n",
      "\u001b[K     |████████████████████████████████| 192 kB 72.1 MB/s \n",
      "\u001b[K     |████████████████████████████████| 75 kB 5.8 MB/s \n",
      "\u001b[K     |████████████████████████████████| 49 kB 7.9 MB/s \n",
      "\u001b[K     |████████████████████████████████| 149 kB 93.7 MB/s \n",
      "\u001b[K     |████████████████████████████████| 112 kB 84.5 MB/s \n",
      "\u001b[K     |████████████████████████████████| 3.3 MB 43.1 MB/s \n",
      "\u001b[K     |████████████████████████████████| 596 kB 66.0 MB/s \n",
      "\u001b[K     |████████████████████████████████| 895 kB 67.4 MB/s \n",
      "\u001b[K     |████████████████████████████████| 1.2 MB 56.1 MB/s \n",
      "\u001b[?25h  Building wheel for pyperclip (setup.py) ... \u001b[?25l\u001b[?25hdone\n"
     ]
    }
   ],
   "source": [
    "!pip install -q transformers[sentencepiece] datasets torch pandas optuna"
   ]
  },
  {
   "cell_type": "code",
   "execution_count": null,
   "metadata": {
    "id": "bZxgDTOXr_xJ"
   },
   "outputs": [],
   "source": [
    "from transformers import pipeline\n",
    "\n",
    "bert_ckpt = \"transformersbook/bert-base-uncased-finetuned-clinc\"\n",
    "pipe = pipeline(\"text-classification\", model=bert_ckpt)"
   ]
  },
  {
   "cell_type": "code",
   "execution_count": 3,
   "metadata": {
    "colab": {
     "base_uri": "https://localhost:8080/"
    },
    "id": "KHtiC4-Wsti_",
    "outputId": "fa90409d-b793-4c1f-ea33-53c044414620"
   },
   "outputs": [
    {
     "data": {
      "text/plain": [
       "[{'label': 'car_rental', 'score': 0.549003541469574}]"
      ]
     },
     "execution_count": 3,
     "metadata": {},
     "output_type": "execute_result"
    }
   ],
   "source": [
    "query = \"\"\"Hey, I'd like to rent a vehicle from Nov 1st to Nov 15th in\n",
    "Paris and I need a 15 passenger van\"\"\"\n",
    "pipe(query)"
   ]
  },
  {
   "cell_type": "markdown",
   "metadata": {
    "id": "5XGUMRH8s369"
   },
   "source": [
    "## Creating a Performance Benchmark\n",
    "다른 ML 모델들과 같이 트랜스포머모델을 배포하는건 몇가지 trade-off가 있습니다.\n",
    "- Model Performance\n",
    "- Latency\n",
    "- Memory\n",
    "위의 항목을 측정하기 위해 간단한 벤치마크를 만들어서 모델의 성능을 측정해보겠습니다.\n"
   ]
  },
  {
   "cell_type": "code",
   "execution_count": 4,
   "metadata": {
    "id": "laWAIl0sszIR"
   },
   "outputs": [],
   "source": [
    "class PerformanceBenchmark:\n",
    "    def __init__(self, pipeline, dataset, optim_type=\"BERT baseline\"):\n",
    "        self.pipeline = pipeline\n",
    "        self.dataset = dataset\n",
    "        self.optim_type = optim_type\n",
    "\n",
    "    def compute_accuracy(self):\n",
    "        # We'll define this later\n",
    "        pass\n",
    "\n",
    "    def compute_size(self):\n",
    "        # We'll define this later\n",
    "        pass\n",
    "\n",
    "    def time_pipeline(self):\n",
    "        # We'll define this later\n",
    "        pass\n",
    "\n",
    "    def run_benchmark(self):\n",
    "        metrics = {}\n",
    "        metrics[self.optim_type] = self.compute_size()\n",
    "        metrics[self.optim_type].update(self.time_pipeline())\n",
    "        metrics[self.optim_type].update(self.compute_accuracy())\n",
    "        return metrics"
   ]
  },
  {
   "cell_type": "code",
   "execution_count": null,
   "metadata": {
    "id": "F4ChbN8qtZha"
   },
   "outputs": [],
   "source": [
    "from datasets import load_dataset\n",
    "# oos는 out-of-scope의 약자로, 도메인에서 벗어난 데이터도 포함한 버전을 의미합니다\n",
    "clinc = load_dataset(\"clinc_oos\", \"plus\")"
   ]
  },
  {
   "cell_type": "code",
   "execution_count": 6,
   "metadata": {
    "colab": {
     "base_uri": "https://localhost:8080/"
    },
    "id": "vWvGsQhOtiGa",
    "outputId": "c53dcff0-9ce6-4eb1-8030-4bc6b1b3ffb6"
   },
   "outputs": [
    {
     "data": {
      "text/plain": [
       "{'intent': 133, 'text': 'transfer $100 from my checking to saving account'}"
      ]
     },
     "execution_count": 6,
     "metadata": {},
     "output_type": "execute_result"
    }
   ],
   "source": [
    "sample = clinc[\"test\"][42]\n",
    "sample"
   ]
  },
  {
   "cell_type": "code",
   "execution_count": 7,
   "metadata": {
    "colab": {
     "base_uri": "https://localhost:8080/",
     "height": 35
    },
    "id": "M-Xg7XtIt0vT",
    "outputId": "96fd4e15-7208-4ba7-e235-5bced7d7e49d"
   },
   "outputs": [
    {
     "data": {
      "application/vnd.google.colaboratory.intrinsic+json": {
       "type": "string"
      },
      "text/plain": [
       "'transfer'"
      ]
     },
     "execution_count": 7,
     "metadata": {},
     "output_type": "execute_result"
    }
   ],
   "source": [
    "intents = clinc[\"test\"].features[\"intent\"]\n",
    "intents.int2str(sample[\"intent\"])"
   ]
  },
  {
   "cell_type": "markdown",
   "metadata": {
    "id": "x4FoWjFDuJX0"
   },
   "source": [
    "정답률을 체크하는 compute_accuracy 함수를 완성해보겠습니다"
   ]
  },
  {
   "cell_type": "code",
   "execution_count": null,
   "metadata": {
    "id": "XfR29iKQt4Tg"
   },
   "outputs": [],
   "source": [
    "from datasets import load_metric\n",
    "\n",
    "accuracy_score = load_metric('accuracy')"
   ]
  },
  {
   "cell_type": "code",
   "execution_count": 9,
   "metadata": {
    "id": "O-1RPnZAt9Au"
   },
   "outputs": [],
   "source": [
    "def compute_accuracy(self):\n",
    "    \"\"\"This overrides the PerformanceBenchmark.compute_accuracy() method\"\"\"\n",
    "    preds, labels = [], []\n",
    "    for example in self.dataset:\n",
    "        pred = self.pipeline(example[\"text\"])[0][\"label\"]\n",
    "        label = example[\"intent\"]\n",
    "        preds.append(intents.str2int(pred))\n",
    "        labels.append(label)\n",
    "    accuracy = accuracy_score.compute(predictions=preds, references=labels)\n",
    "    print(f\"Accuracy on test set - {accuracy['accuracy']:.3f}\")\n",
    "    return accuracy\n",
    "\n",
    "PerformanceBenchmark.compute_accuracy = compute_accuracy"
   ]
  },
  {
   "cell_type": "markdown",
   "metadata": {
    "id": "H6QygleEubDy"
   },
   "source": [
    "이제는 `torch.save()` 함수를 통해 모델의 크기를 측정하는 함수를 만들어보겠습니다. `torch.save()` 함수는 내부적으로 파이썬의 `pickle` 모듈을 사용합니다. 즉, 모델을 평범한 파이썬 오브젝트로 저장하는 것이 가능합니다. 파이토치에서는 모델을 저장할 때, `state_dict` 을 써서 저장하는 것을 추천하는데, `state_dict`은 파이썬 딕셔너리인데, 모델의 각 레이어와 모델의 파라미터(weight and biases)를 맵핑시켜줍니다. 예컨데, 베이스라인 모델의 state_dict에 저장된걸 확인해보면 다음과 같습니다."
   ]
  },
  {
   "cell_type": "code",
   "execution_count": 10,
   "metadata": {
    "colab": {
     "base_uri": "https://localhost:8080/"
    },
    "id": "xNbsri6qt_ek",
    "outputId": "e9a55f58-c6d9-42d2-97ce-11752a638e6a"
   },
   "outputs": [
    {
     "data": {
      "text/plain": [
       "('bert.encoder.layer.2.attention.self.value.weight',\n",
       " tensor([[-1.0526e-02, -3.2215e-02,  2.2097e-02,  ..., -6.0953e-03,\n",
       "           4.6521e-03,  2.9844e-02],\n",
       "         [-1.4964e-02, -1.0915e-02,  5.2396e-04,  ...,  3.2047e-05,\n",
       "          -2.6890e-02, -2.1943e-02],\n",
       "         [-2.9640e-02, -3.7842e-03, -1.2582e-02,  ..., -1.0917e-02,\n",
       "           3.1152e-02, -9.7786e-03],\n",
       "         ...,\n",
       "         [-1.5116e-02, -3.3226e-02,  4.2063e-02,  ..., -5.2652e-03,\n",
       "           1.1093e-02,  2.9703e-03],\n",
       "         [-3.6809e-02,  5.6848e-02, -2.6544e-02,  ..., -4.0114e-02,\n",
       "           6.7487e-03,  1.0511e-03],\n",
       "         [-2.4961e-02,  1.4747e-03, -5.4271e-02,  ...,  2.0004e-02,\n",
       "           2.3981e-02, -4.2880e-02]]))"
      ]
     },
     "execution_count": 10,
     "metadata": {},
     "output_type": "execute_result"
    }
   ],
   "source": [
    "list(pipe.model.state_dict().items())[42]"
   ]
  },
  {
   "cell_type": "markdown",
   "metadata": {
    "id": "hUrm5x7KvkeF"
   },
   "source": [
    "모델은 다음과 같이 저장할 수 있습니다"
   ]
  },
  {
   "cell_type": "code",
   "execution_count": 11,
   "metadata": {
    "id": "vBFw5NKxuHak"
   },
   "outputs": [],
   "source": [
    "import torch\n",
    "torch.save(pipe.model.state_dict(), \"model.pt\")"
   ]
  },
  {
   "cell_type": "markdown",
   "metadata": {
    "id": "ayF4yQ-AvzlT"
   },
   "source": [
    "파이썬 모듈인 `pathlib`에 있는 `Path.stat()` 함수를 통해 저장된 파일의 정보를 확인 할 수 있습니다. `Path(\"model.pt\").stat().st_size` 를 통해 모델의 크기를 bytes 단위로 얻을 수 있습니다. 이를 기반으로 `compute_size()` 함수를 완성해보겠습니다."
   ]
  },
  {
   "cell_type": "code",
   "execution_count": 12,
   "metadata": {
    "id": "-5pYpytMvmZU"
   },
   "outputs": [],
   "source": [
    "import torch\n",
    "from pathlib import Path\n",
    "\n",
    "def compute_size(self):\n",
    "    \"\"\"This overrides the PerformanceBenchmark.compute_size() method\"\"\"\n",
    "    state_dict = self.pipeline.model.state_dict()\n",
    "    tmp_path = Path(\"model.pt\")\n",
    "    torch.save(state_dict, tmp_path)\n",
    "    # Calculate size in megabytes\n",
    "    size_mb = Path(tmp_path).stat().st_size / (1024 * 1024)\n",
    "    # Delete temporary file\n",
    "    tmp_path.unlink()\n",
    "    print(f\"Model size (MB) - {size_mb:.2f}\")\n",
    "    return {\"size_mb\": size_mb}\n",
    "\n",
    "PerformanceBenchmark.compute_size = compute_size"
   ]
  },
  {
   "cell_type": "markdown",
   "metadata": {
    "id": "Z-nrDP7owRue"
   },
   "source": [
    "이제 마지막으로 `time_pipeline()` 함수를 구현해보겠습니다. 질의당 평균 latency를 계산하는 함수입니다. 간단한 방법으로는 `perf_counter()` 함수를 통해 구현할 수 있고 `time.time()` 함수 보다 더 나은 time resolution을 갖기 때문에 더 정확한 결과를 얻을 수 있습니다."
   ]
  },
  {
   "cell_type": "code",
   "execution_count": 13,
   "metadata": {
    "colab": {
     "base_uri": "https://localhost:8080/"
    },
    "id": "nrs8aJu2wLWz",
    "outputId": "88c7836a-cf32-4d1c-a7f6-b8536935a17f"
   },
   "outputs": [
    {
     "name": "stdout",
     "output_type": "stream",
     "text": [
      "Latency (ms) - 85.152\n",
      "Latency (ms) - 83.541\n",
      "Latency (ms) - 75.503\n"
     ]
    }
   ],
   "source": [
    "from time import perf_counter\n",
    "\n",
    "for _ in range(3):\n",
    "    start_time = perf_counter()\n",
    "    _ = pipe(query)\n",
    "    latency = perf_counter() - start_time\n",
    "    print(f\"Latency (ms) - {1000 * latency:.3f}\")"
   ]
  },
  {
   "cell_type": "markdown",
   "metadata": {
    "id": "cjAHtqRuw-3T"
   },
   "source": [
    "실행할 때마다 결과가 조금씩 달라질 수 있기 때문에, 여러번 실행 후 분포에 대한 평균과 표준편차를 계산합니다. 제대로 된 실행시간 계산을 하기 전에 CPU를 warm up 시켜준 뒤 계산을 진행합니다."
   ]
  },
  {
   "cell_type": "code",
   "execution_count": 14,
   "metadata": {
    "id": "pLMaPiUMw4Fu"
   },
   "outputs": [],
   "source": [
    "import numpy as np\n",
    "\n",
    "def time_pipeline(self, query=\"What is the pin number for my account?\"):\n",
    "    \"\"\"This overrides the PerformanceBenchmark.time_pipeline() method\"\"\"\n",
    "    latencies = []\n",
    "    # Warmup\n",
    "    for _ in range(10):\n",
    "        _ = self.pipeline(query)\n",
    "    # Timed run\n",
    "    for _ in range(100):\n",
    "        start_time = perf_counter()\n",
    "        _ = self.pipeline(query)\n",
    "        latency = perf_counter() - start_time\n",
    "        latencies.append(latency)\n",
    "    # Compute run statistics\n",
    "    time_avg_ms = 1000 * np.mean(latencies)\n",
    "    time_std_ms = 1000 * np.std(latencies)\n",
    "    print(f\"Average latency (ms) - {time_avg_ms:.2f} +\\- {time_std_ms:.2f}\")\n",
    "    return {\"time_avg_ms\": time_avg_ms, \"time_std_ms\": time_std_ms}\n",
    "\n",
    "PerformanceBenchmark.time_pipeline = time_pipeline"
   ]
  },
  {
   "cell_type": "markdown",
   "metadata": {
    "id": "lJ2jNXtoxkVq"
   },
   "source": [
    "간단한 테스트를 위해 `query`를 고정해서 진행하겠습니다. 보통 query length에 따라 latency가 달라지기 때문입니다. 하지만 제대로 된 평가를 원한다면 배포하고자하는 환경에서 들어오는 query로 테스트하는게 좋습니다.\n",
    "\n",
    "이제 `PerformanceBenchmark` 클래스가 완성되었습니다. 이어서 벤치마크 테스트를 진행해보겠습니다."
   ]
  },
  {
   "cell_type": "markdown",
   "metadata": {
    "id": "T_Eq37xZxjNm"
   },
   "source": [
    "# Benchmarking Our Baseline Model\n",
    "베이스라인에 대해 accuracy, model size, latency등은 어느정도 나오는지 측정해보겠습니다"
   ]
  },
  {
   "cell_type": "code",
   "execution_count": 15,
   "metadata": {
    "colab": {
     "base_uri": "https://localhost:8080/"
    },
    "id": "DStGmkhgxdRl",
    "outputId": "065a3424-e7f0-4e7a-e3fe-0367f1c07d14"
   },
   "outputs": [
    {
     "name": "stdout",
     "output_type": "stream",
     "text": [
      "Model size (MB) - 418.16\n",
      "Average latency (ms) - 66.91 +\\- 15.54\n",
      "Accuracy on test set - 0.867\n"
     ]
    }
   ],
   "source": [
    "pb = PerformanceBenchmark(pipe, clinc[\"test\"])\n",
    "perf_metrics = pb.run_benchmark()"
   ]
  },
  {
   "cell_type": "code",
   "execution_count": 16,
   "metadata": {
    "colab": {
     "base_uri": "https://localhost:8080/"
    },
    "id": "8CPeX2WFyJ_T",
    "outputId": "e016212b-fd67-4914-88c4-7b0c3494b798"
   },
   "outputs": [
    {
     "data": {
      "text/plain": [
       "{'BERT baseline': {'accuracy': 0.8672727272727273,\n",
       "  'size_mb': 418.162091255188,\n",
       "  'time_avg_ms': 66.90917849000016,\n",
       "  'time_std_ms': 15.54450930778012}}"
      ]
     },
     "execution_count": 16,
     "metadata": {},
     "output_type": "execute_result"
    }
   ],
   "source": [
    "perf_metrics"
   ]
  },
  {
   "cell_type": "markdown",
   "metadata": {
    "id": "PRbFWSO70LjV"
   },
   "source": [
    "# Making Models Smaller via Knowledge Distillation\n",
    "KD는 작은 크기를 갖는 모델이 큰 크기를 갖는 모델을 학생이 선생님께 배우듯 학습하는 방법론입니다. 2006년 \"Model Compression\" 이라는 논문에서 소개되었고, 2015년 Hinton 논문인 \"Distilling the Knowledge in a Neural Network\" 에서 쓰이면서 deep neural networks에 일반적으로 적용되게 되었습니다.\n"
   ]
  },
  {
   "cell_type": "markdown",
   "metadata": {
    "id": "-27S7Z0m1pxN"
   },
   "source": [
    "## Knowledge Distillation for Fine-Tuning\n",
    "logits을 $\\mathbf{z}(x)=\\left[z_{1}(x), \\ldots, z_{N}(x)\\right]$라 하고, $T$를 temperature hyperparameter라고 하면 softmax 함수는 다음과 같이 표현할 수 있습니다.\n",
    "\n",
    "$$\n",
    "p_{i}(x)=\\frac{\\exp \\left(z_{i}(x) / T\\right)}{\\sum_{j} \\exp \\left(z_{i}(x) / T\\right)}\n",
    "$$\n",
    "\n",
    "$T$는 전체적인 확률분포를 고르게 보정해주는 역할을 하는데, 값에 따라서 확률분포는 다음과 같이 변할 수 있습니다.\n",
    "![temperature_scaling](https://user-images.githubusercontent.com/7252598/146838210-eea51077-8916-4410-85bf-9493241d1627.png)\n",
    "\n",
    "학생모델도 확률값을 $q_{i}(x)$ 갖기 때문에 [Kullback–Leibler (KL) divergence](https://en.wikipedia.org/wiki/Kullback%E2%80%93Leibler_divergence)를 선생모델의 확률값과의 차이를 측정하는데 사용할 수 있습니다.\n",
    "$$\n",
    "D_{K L}(p, q)=\\sum_{i} p_{i}(x) \\log \\frac{p_{i}(x)}{q_{i}(x)}\n",
    "$$\n",
    "\n",
    "KD divergence를 loss로 적용하면 다음과 같습니다. 여기서 $T^2$는 soft labels scales로 normalization factor입니다.\n",
    "\n",
    "$$\n",
    "L_{K D}=T^{2} D_{K L}\n",
    "$$\n",
    "\n",
    "\n",
    "분류 태스크에서 학생모델의 loss는 distillation loss와 일반적인 cross entropy loss인 $L_{CE}$ 대한 weighted average loss입니다.\n",
    "\n",
    "$$\n",
    "L_{\\text {student }}=\\alpha L_{C E}+(1-\\alpha) L_{K D}\n",
    "$$\n",
    "\n",
    "![student_loss](https://user-images.githubusercontent.com/7252598/146839084-ef89b2f2-fe08-4811-9cc5-54566fd908f8.png)\n"
   ]
  },
  {
   "cell_type": "markdown",
   "metadata": {
    "id": "hQLAzP2X46eh"
   },
   "source": [
    "## Knowledge Distillation for Pretraining\n",
    "MLM에 대한 knowledge를 학생모델로 옮기는 것도 가능합니다. 여러 방법이 있지만, DistilBERT 논문에서의 방법은 다음과 같습니다.\n",
    "\n",
    "$$\n",
    "L_{\\text {DistilBERT }}=\\alpha L_{m l m}+\\beta L_{K D}+\\gamma L_{\\cos }\n",
    "$$\n",
    "\n",
    "여기서 $L_{cos} = 1 - \\cos(h_{s}, h_{t})$ 는 hidden state vectors의 방향을 align해주기 위한 텀입니다."
   ]
  },
  {
   "cell_type": "markdown",
   "metadata": {
    "id": "F_dpVBSl5pUU"
   },
   "source": [
    "## Creating a Knowledge Distillation Trainer\n",
    "이제부터 KD를 구현하기위해 기존 `Trainer`에 몇가지 기능을 추가해서 만들어보겠습니다.\n",
    "\n",
    "\n"
   ]
  },
  {
   "cell_type": "code",
   "execution_count": 17,
   "metadata": {
    "id": "zUgnIBEj0Hqu"
   },
   "outputs": [],
   "source": [
    "from transformers import TrainingArguments\n",
    "\n",
    "class DistillationTrainingArguments(TrainingArguments):\n",
    "    def __init__(self, *args, alpha=0.5, temperature=2.0, **kwargs):\n",
    "        super().__init__(*args, **kwargs)\n",
    "        self.alpha = alpha\n",
    "        self.temperature = temperature"
   ]
  },
  {
   "cell_type": "code",
   "execution_count": 18,
   "metadata": {
    "id": "EY4awIVK6G2Y"
   },
   "outputs": [],
   "source": [
    "import torch.nn as nn\n",
    "import torch.nn.functional as F\n",
    "from transformers import Trainer\n",
    "\n",
    "class DistillationTrainer(Trainer):\n",
    "    def __init__(self, *args, teacher_model=None, **kwargs):\n",
    "        super().__init__(*args, **kwargs)\n",
    "        self.teacher_model = teacher_model\n",
    "\n",
    "    def compute_loss(self, model, inputs, return_outputs=False):\n",
    "        outputs_stu = model(**inputs)\n",
    "        # Extract cross-entropy loss and logits from student\n",
    "        loss_ce = outputs_stu.loss\n",
    "        logits_stu = outputs_stu.logits\n",
    "        # Extract logits from teacher\n",
    "        with torch.no_grad():\n",
    "            outputs_tea = self.teacher_model(**inputs)\n",
    "            logits_tea = outputs_tea.logits\n",
    "        # Soften probabilities and compute distillation loss\n",
    "        loss_fct = nn.KLDivLoss(reduction=\"batchmean\")\n",
    "        loss_kd = self.args.temperature ** 2 * loss_fct(\n",
    "            F.log_softmax(logits_stu / self.args.temperature, dim=-1),\n",
    "            F.softmax(logits_tea / self.args.temperature, dim=-1))\n",
    "        # Return weighted student loss\n",
    "        loss = self.args.alpha * loss_ce + (1. - self.args.alpha) * loss_kd\n",
    "        return (loss, outputs_stu) if return_outputs else loss"
   ]
  },
  {
   "cell_type": "markdown",
   "metadata": {
    "id": "okeUzu266irO"
   },
   "source": [
    "## Choosing a Good Student Initialization\n",
    "일반적으로는 학생모델과 선생모델이 같은 모델타입을 가질때 KD가 잘 되는편입니다. 다른 모델의 경우 embedding spaces가 다르기 때문에 선생모델을 따라하기가 어렵습니다. 따라서 앞으로는 BERT 계열의 모델로 테스트를 진행하겠습니다."
   ]
  },
  {
   "cell_type": "code",
   "execution_count": null,
   "metadata": {
    "id": "kNW4X_-L6M_5"
   },
   "outputs": [],
   "source": [
    "from transformers import AutoTokenizer\n",
    "\n",
    "student_ckpt = \"distilbert-base-uncased\"\n",
    "student_tokenizer = AutoTokenizer.from_pretrained(student_ckpt)\n",
    "\n",
    "def tokenize_text(batch):\n",
    "    return student_tokenizer(batch[\"text\"], truncation=True)\n",
    "\n",
    "clinc_enc = clinc.map(tokenize_text, batched=True, remove_columns=[\"text\"])\n",
    "clinc_enc = clinc_enc.rename_column(\"intent\", \"labels\")"
   ]
  },
  {
   "cell_type": "code",
   "execution_count": 20,
   "metadata": {
    "id": "uWwtkeeJ7F_t"
   },
   "outputs": [],
   "source": [
    "# from huggingface_hub import notebook_login\n",
    "\n",
    "# notebook_login()"
   ]
  },
  {
   "cell_type": "code",
   "execution_count": 21,
   "metadata": {
    "id": "E3Faj5BL7VXB"
   },
   "outputs": [],
   "source": [
    "def compute_metrics(pred):\n",
    "    predictions, labels = pred\n",
    "    predictions = np.argmax(predictions, axis=1)\n",
    "    return accuracy_score.compute(predictions=predictions, references=labels)"
   ]
  },
  {
   "cell_type": "markdown",
   "metadata": {
    "id": "mbTvnmC57mzt"
   },
   "source": [
    "처음 warm up 스테이지에서는 $\\alpha = 1$로 셋팅해서 DistilBERT가 티처모델의 도움을 받지 않을때 어느정도 해내는지 확인해보겠습니다."
   ]
  },
  {
   "cell_type": "code",
   "execution_count": 22,
   "metadata": {
    "id": "WqGlJTjs7W9d"
   },
   "outputs": [],
   "source": [
    "batch_size = 48\n",
    "\n",
    "finetuned_ckpt = \"distilbert-base-uncased-finetuned-clinc\"\n",
    "student_training_args = DistillationTrainingArguments(\n",
    "    output_dir=finetuned_ckpt, evaluation_strategy = \"epoch\",\n",
    "    num_train_epochs=5, learning_rate=2e-5,\n",
    "    per_device_train_batch_size=batch_size,\n",
    "    per_device_eval_batch_size=batch_size, alpha=1, weight_decay=0.01,\n",
    "    push_to_hub=False) # push를 원하면 True로 바꿔줍니다"
   ]
  },
  {
   "cell_type": "code",
   "execution_count": 23,
   "metadata": {
    "id": "8keb7xbp79lj"
   },
   "outputs": [],
   "source": [
    "id2label = pipe.model.config.id2label\n",
    "label2id = pipe.model.config.label2id"
   ]
  },
  {
   "cell_type": "code",
   "execution_count": 24,
   "metadata": {
    "id": "v9G5jJgZ8DJ4"
   },
   "outputs": [],
   "source": [
    "from transformers import AutoConfig\n",
    "\n",
    "num_labels = intents.num_classes\n",
    "student_config = (AutoConfig\n",
    "                  .from_pretrained(student_ckpt, num_labels=num_labels,\n",
    "                                   id2label=id2label, label2id=label2id))"
   ]
  },
  {
   "cell_type": "markdown",
   "metadata": {
    "id": "ivdgVFfY8UBc"
   },
   "source": [
    "trainer내에서 여러번 실행할 것이기 때문에 `student_init()`함수를 만들어줍니다. "
   ]
  },
  {
   "cell_type": "code",
   "execution_count": 25,
   "metadata": {
    "id": "FuA2anwq8NuU"
   },
   "outputs": [],
   "source": [
    "import torch\n",
    "from transformers import AutoModelForSequenceClassification\n",
    "\n",
    "device = torch.device(\"cuda\" if torch.cuda.is_available() else \"cpu\")\n",
    "\n",
    "def student_init():\n",
    "    return (AutoModelForSequenceClassification\n",
    "            .from_pretrained(student_ckpt, config=student_config).to(device))"
   ]
  },
  {
   "cell_type": "code",
   "execution_count": 26,
   "metadata": {
    "id": "rO7jU78j8Ry2"
   },
   "outputs": [],
   "source": [
    "teacher_ckpt = \"transformersbook/bert-base-uncased-finetuned-clinc\"\n",
    "teacher_model = (AutoModelForSequenceClassification\n",
    "                 .from_pretrained(teacher_ckpt, num_labels=num_labels)\n",
    "                 .to(device))"
   ]
  },
  {
   "cell_type": "code",
   "execution_count": null,
   "metadata": {
    "id": "qhw0HZj18haV"
   },
   "outputs": [],
   "source": [
    "distilbert_trainer = DistillationTrainer(model_init=student_init,\n",
    "    teacher_model=teacher_model, args=student_training_args,\n",
    "    train_dataset=clinc_enc['train'], eval_dataset=clinc_enc['validation'],\n",
    "    compute_metrics=compute_metrics, tokenizer=student_tokenizer)\n",
    "\n",
    "distilbert_trainer.train()"
   ]
  },
  {
   "cell_type": "code",
   "execution_count": 28,
   "metadata": {
    "id": "LUk_bZ2i8jl-"
   },
   "outputs": [],
   "source": [
    "# distilbert_trainer.push_to_hub(\"Training completed!\")"
   ]
  },
  {
   "cell_type": "code",
   "execution_count": null,
   "metadata": {
    "id": "7mlRjjqb9Hi7"
   },
   "outputs": [],
   "source": [
    "finetuned_ckpt = \"transformersbook/distilbert-base-uncased-finetuned-clinc\"\n",
    "pipe = pipeline(\"text-classification\", model=finetuned_ckpt)"
   ]
  },
  {
   "cell_type": "code",
   "execution_count": 30,
   "metadata": {
    "colab": {
     "base_uri": "https://localhost:8080/"
    },
    "id": "SzKeOqkN9KnB",
    "outputId": "9b9b7204-b4d5-4318-af04-a178995d4332"
   },
   "outputs": [
    {
     "name": "stdout",
     "output_type": "stream",
     "text": [
      "Model size (MB) - 255.89\n",
      "Average latency (ms) - 23.57 +\\- 1.51\n",
      "Accuracy on test set - 0.858\n"
     ]
    }
   ],
   "source": [
    "optim_type = \"DistilBERT\"\n",
    "pb = PerformanceBenchmark(pipe, clinc[\"test\"], optim_type=optim_type)\n",
    "perf_metrics.update(pb.run_benchmark())"
   ]
  },
  {
   "cell_type": "code",
   "execution_count": 31,
   "metadata": {
    "colab": {
     "base_uri": "https://localhost:8080/"
    },
    "id": "bMNIE6UxEHHU",
    "outputId": "eb6a4d9e-c95f-4b11-d38c-f751144afbea"
   },
   "outputs": [
    {
     "data": {
      "text/plain": [
       "{'BERT baseline': {'accuracy': 0.8672727272727273,\n",
       "  'size_mb': 418.162091255188,\n",
       "  'time_avg_ms': 66.90917849000016,\n",
       "  'time_std_ms': 15.54450930778012},\n",
       " 'DistilBERT': {'accuracy': 0.8581818181818182,\n",
       "  'size_mb': 255.8870096206665,\n",
       "  'time_avg_ms': 23.56640914000309,\n",
       "  'time_std_ms': 1.5127073845396601}}"
      ]
     },
     "execution_count": 31,
     "metadata": {},
     "output_type": "execute_result"
    }
   ],
   "source": [
    "perf_metrics"
   ]
  },
  {
   "cell_type": "code",
   "execution_count": 32,
   "metadata": {
    "colab": {
     "base_uri": "https://localhost:8080/",
     "height": 283
    },
    "id": "xO6TfCdD9LpU",
    "outputId": "2c832d91-6a7c-4af1-a9a9-fcaf2cdca63d"
   },
   "outputs": [
    {
     "data": {
      "image/png": "[encoded data removed]",
      "text/plain": [
       "<Figure size 432x288 with 1 Axes>"
      ]
     },
     "metadata": {
      "needs_background": "light"
     },
     "output_type": "display_data"
    }
   ],
   "source": [
    "import pandas as pd\n",
    "import matplotlib.pyplot as plt\n",
    "\n",
    "def plot_metrics(perf_metrics, current_optim_type):\n",
    "    df = pd.DataFrame.from_dict(perf_metrics, orient='index')\n",
    "\n",
    "    for idx in df.index:\n",
    "        df_opt = df.loc[idx]\n",
    "        # Add a dashed circle around the current optimization type\n",
    "        if idx == current_optim_type:\n",
    "            plt.scatter(df_opt[\"time_avg_ms\"], df_opt[\"accuracy\"] * 100,\n",
    "                        alpha=0.5, s=df_opt[\"size_mb\"], label=idx,\n",
    "                        marker='$\\u25CC$')\n",
    "        else:\n",
    "            plt.scatter(df_opt[\"time_avg_ms\"], df_opt[\"accuracy\"] * 100,\n",
    "                        s=df_opt[\"size_mb\"], label=idx, alpha=0.5)\n",
    "\n",
    "    legend = plt.legend(bbox_to_anchor=(1,1))\n",
    "    for handle in legend.legendHandles:\n",
    "        handle.set_sizes([20])\n",
    "\n",
    "    plt.ylim(80,90)\n",
    "    # Use the slowest model to define the x-axis range\n",
    "    xlim = int(perf_metrics[\"BERT baseline\"][\"time_avg_ms\"] + 3)\n",
    "    plt.xlim(1, xlim)\n",
    "    plt.ylabel(\"Accuracy (%)\")\n",
    "    plt.xlabel(\"Average latency (ms)\")\n",
    "    plt.show()\n",
    "\n",
    "plot_metrics(perf_metrics, optim_type)"
   ]
  },
  {
   "cell_type": "markdown",
   "metadata": {
    "id": "eNvGKMJGETBL"
   },
   "source": [
    "# Finding Good Hyperparameters with Optuna\n",
    "각 모델과 데이터에 맞는 $\\alpha$와 $T$를 찾기 위해 2D parameter space에 대해 grid search를 수행할 수 있습니다. 하지만 이보다 더 좋은 대안은 *Optuna*라는 최적화 프레임워크를 사용하는 것입니다. Optuna는 여러번의 시도를 통해 objective function을 최적화하는 방법으로 문제를 해결하빈다. 예컨데, [Rosenbrock’s “banana function”](https://en.wikipedia.org/wiki/Rosenbrock_function)을 최소화하는 문제를 풀어보겠습니다.\n",
    "\n",
    "$$\n",
    "f(x, y)=(1-x)^{2}+100\\left(y-x^{2}\\right)^{2}\n",
    "$$\n",
    "\n",
    "![banana_func](https://user-images.githubusercontent.com/7252598/146873268-5e2f431f-1e68-4e01-99e3-d2314cb143ac.png)\n",
    "\n",
    "그림과 수식에서 볼 수 있듯이 $(x, y) = (1, 1)$일 때 함수는 global minimum을 갖는것을 알 수 있습니다.\n",
    "\n",
    "Optuna에서는 $f(x,y)$ 함수의 최소값을 찾기 위해 `objective()` 함수를 정의 할 수 있습니다.\n"
   ]
  },
  {
   "cell_type": "code",
   "execution_count": 33,
   "metadata": {
    "id": "4NuTnA2e9RZu"
   },
   "outputs": [],
   "source": [
    "def objective(trial):\n",
    "    x = trial.suggest_float(\"x\", -2, 2)\n",
    "    y = trial.suggest_float(\"y\", -2, 2)\n",
    "    return (1 - x) ** 2 + 100 * (y - x ** 2) ** 2"
   ]
  },
  {
   "cell_type": "markdown",
   "metadata": {
    "id": "rWFxN-PyWAyX"
   },
   "source": [
    "`trial.suggest_float`은 파라미터의 특정 구간에 대해서 유니폼분포로 샘플링한 값으로 최적화된 파라미터의 값을 추정합니다. `suggest_int`, `suggest_categorical` 등의 함수도 지원합니다."
   ]
  },
  {
   "cell_type": "code",
   "execution_count": null,
   "metadata": {
    "id": "VLA5_SZeEfla"
   },
   "outputs": [],
   "source": [
    "import optuna\n",
    "\n",
    "study = optuna.create_study()\n",
    "study.optimize(objective, n_trials=100) # 1000"
   ]
  },
  {
   "cell_type": "code",
   "execution_count": 35,
   "metadata": {
    "colab": {
     "base_uri": "https://localhost:8080/"
    },
    "id": "OY8JLA9rEgdC",
    "outputId": "52b7b352-c409-40b4-cc46-6682730af477"
   },
   "outputs": [
    {
     "data": {
      "text/plain": [
       "{'x': 0.5300448714793131, 'y': 0.3003762843294947}"
      ]
     },
     "execution_count": 35,
     "metadata": {},
     "output_type": "execute_result"
    }
   ],
   "source": [
    "study.best_params"
   ]
  },
  {
   "cell_type": "markdown",
   "metadata": {
    "id": "s3zijWU-Whf8"
   },
   "source": [
    "`Trainer` 를 사용하면 좀 더 쉽게 hyperparameter search를 적용할 수 있습니다. \n",
    "더 높은 accuracy를 얻는 것이 목적이므로 `hyperparameter_search()` 함수 내에서 `direction=\"maximize\"`로 셋팅합니다."
   ]
  },
  {
   "cell_type": "code",
   "execution_count": 38,
   "metadata": {
    "id": "lh5Aw3OaErTJ"
   },
   "outputs": [],
   "source": [
    "def hp_space(trial):\n",
    "    return {\n",
    "        \"num_train_epochs\": trial.suggest_int(\"num_train_epochs\", 2, 5),\n",
    "        \"alpha\": trial.suggest_float(\"alpha\", 0, 1),\n",
    "        \"temperature\": trial.suggest_int(\"temperature\", 2, 20)}"
   ]
  },
  {
   "cell_type": "code",
   "execution_count": null,
   "metadata": {
    "id": "51IU5AUQExj6"
   },
   "outputs": [],
   "source": [
    "best_run = distilbert_trainer.hyperparameter_search(\n",
    "    n_trials=3, direction=\"maximize\", hp_space=hp_space) # n_trials=20"
   ]
  },
  {
   "cell_type": "code",
   "execution_count": 40,
   "metadata": {
    "colab": {
     "base_uri": "https://localhost:8080/"
    },
    "id": "cAPm2nJ2FYND",
    "outputId": "42bd048d-6a70-441e-8f7b-4e836a181054"
   },
   "outputs": [
    {
     "name": "stdout",
     "output_type": "stream",
     "text": [
      "BestRun(run_id='0', objective=0.8941935483870967, hyperparameters={'num_train_epochs': 5, 'alpha': 0.23624395720945324, 'temperature': 16})\n"
     ]
    }
   ],
   "source": [
    "print(best_run)"
   ]
  },
  {
   "cell_type": "code",
   "execution_count": null,
   "metadata": {
    "id": "RajT2mMwFZrx"
   },
   "outputs": [],
   "source": [
    "for k,v in best_run.hyperparameters.items():\n",
    "    setattr(student_training_args, k, v)\n",
    "\n",
    "# Define a new repository to store our distilled model\n",
    "distilled_ckpt = \"distilbert-base-uncased-distilled-clinc\"\n",
    "student_training_args.output_dir = distilled_ckpt\n",
    "\n",
    "# Create a new Trainer with optimal parameters\n",
    "distil_trainer = DistillationTrainer(model_init=student_init,\n",
    "    teacher_model=teacher_model, args=student_training_args,\n",
    "    train_dataset=clinc_enc['train'], eval_dataset=clinc_enc['validation'],\n",
    "    compute_metrics=compute_metrics, tokenizer=student_tokenizer)\n",
    "\n",
    "distil_trainer.train();"
   ]
  },
  {
   "cell_type": "code",
   "execution_count": 42,
   "metadata": {
    "id": "TCZt8f2eFeTM"
   },
   "outputs": [],
   "source": [
    "# distil_trainer.push_to_hub(\"Training complete\")"
   ]
  },
  {
   "cell_type": "code",
   "execution_count": null,
   "metadata": {
    "id": "O8PpXFDtFgYj"
   },
   "outputs": [],
   "source": [
    "distilled_ckpt = \"transformersbook/distilbert-base-uncased-distilled-clinc\"\n",
    "pipe = pipeline(\"text-classification\", model=distilled_ckpt)\n",
    "optim_type = \"Distillation\"\n",
    "pb = PerformanceBenchmark(pipe, clinc[\"test\"], optim_type=optim_type)\n",
    "perf_metrics.update(pb.run_benchmark())"
   ]
  },
  {
   "cell_type": "code",
   "execution_count": 44,
   "metadata": {
    "colab": {
     "base_uri": "https://localhost:8080/",
     "height": 283
    },
    "id": "7Ux7MLJ8FiJ6",
    "outputId": "c39e906f-defd-4bd2-af65-eacae53aad0e"
   },
   "outputs": [
    {
     "data": {
      "image/png": "[encoded data removed]",
      "text/plain": [
       "<Figure size 432x288 with 1 Axes>"
      ]
     },
     "metadata": {
      "needs_background": "light"
     },
     "output_type": "display_data"
    }
   ],
   "source": [
    "plot_metrics(perf_metrics, optim_type)"
   ]
  },
  {
   "cell_type": "markdown",
   "metadata": {
    "id": "rmuASV9KGqTw"
   },
   "source": [
    "# Making Models Faster with Quantization"
   ]
  },
  {
   "cell_type": "code",
   "execution_count": 45,
   "metadata": {
    "colab": {
     "base_uri": "https://localhost:8080/",
     "height": 265
    },
    "id": "bSg6DvKhFlK4",
    "outputId": "d34095ef-bdf6-4790-cd12-1ec780d13832"
   },
   "outputs": [
    {
     "data": {
      "image/png": "[encoded data removed]",
      "text/plain": [
       "<Figure size 432x288 with 1 Axes>"
      ]
     },
     "metadata": {
      "needs_background": "light"
     },
     "output_type": "display_data"
    }
   ],
   "source": [
    "import matplotlib.pyplot as plt\n",
    "\n",
    "state_dict = pipe.model.state_dict()\n",
    "weights = state_dict[\"distilbert.transformer.layer.0.attention.out_lin.weight\"]\n",
    "plt.hist(weights.flatten().numpy(), bins=250, range=(-0.3,0.3), edgecolor=\"C0\")\n",
    "plt.show()"
   ]
  },
  {
   "cell_type": "code",
   "execution_count": 46,
   "metadata": {
    "id": "uWyj77uWGspE"
   },
   "outputs": [],
   "source": [
    "zero_point = 0\n",
    "scale = (weights.max() - weights.min()) / (127 - (-128))"
   ]
  },
  {
   "cell_type": "code",
   "execution_count": 47,
   "metadata": {
    "colab": {
     "base_uri": "https://localhost:8080/"
    },
    "id": "45-BjstMGtu_",
    "outputId": "08c715a9-facc-4ffc-bcc9-5cd4c61a41c6"
   },
   "outputs": [
    {
     "data": {
      "text/plain": [
       "tensor([[ -5,  -8,   0,  ...,  -6,  -4,   8],\n",
       "        [  8,   3,   1,  ...,  -4,   7,   0],\n",
       "        [ -9,  -6,   5,  ...,   1,   5,  -3],\n",
       "        ...,\n",
       "        [  6,   0,  12,  ...,   0,   6,  -1],\n",
       "        [  0,  -2, -12,  ...,  12,  -7, -13],\n",
       "        [-13,  -1, -10,  ...,   8,   2,  -2]], dtype=torch.int8)"
      ]
     },
     "execution_count": 47,
     "metadata": {},
     "output_type": "execute_result"
    }
   ],
   "source": [
    "(weights / scale + zero_point).clamp(-128, 127).round().char()"
   ]
  },
  {
   "cell_type": "code",
   "execution_count": 48,
   "metadata": {
    "colab": {
     "base_uri": "https://localhost:8080/"
    },
    "id": "f4EDY4BSGu-3",
    "outputId": "05ff246f-5cd0-4f33-a8bd-4a0534841c1d"
   },
   "outputs": [
    {
     "data": {
      "text/plain": [
       "tensor([[ -5,  -8,   0,  ...,  -6,  -4,   8],\n",
       "        [  8,   3,   1,  ...,  -4,   7,   0],\n",
       "        [ -9,  -6,   5,  ...,   1,   5,  -3],\n",
       "        ...,\n",
       "        [  6,   0,  12,  ...,   0,   6,  -1],\n",
       "        [  0,  -2, -12,  ...,  12,  -7, -13],\n",
       "        [-13,  -1, -10,  ...,   8,   2,  -2]], dtype=torch.int8)"
      ]
     },
     "execution_count": 48,
     "metadata": {},
     "output_type": "execute_result"
    }
   ],
   "source": [
    "from torch import quantize_per_tensor\n",
    "\n",
    "dtype = torch.qint8\n",
    "quantized_weights = quantize_per_tensor(weights, scale, zero_point, dtype)\n",
    "quantized_weights.int_repr()"
   ]
  },
  {
   "cell_type": "code",
   "execution_count": 49,
   "metadata": {
    "colab": {
     "base_uri": "https://localhost:8080/"
    },
    "id": "fJiQ1YgrGwJ-",
    "outputId": "79d390a5-36ce-47f5-f486-54a7c4627501"
   },
   "outputs": [
    {
     "name": "stdout",
     "output_type": "stream",
     "text": [
      "100 loops, best of 5: 5.59 ms per loop\n"
     ]
    }
   ],
   "source": [
    "%%timeit\n",
    "weights @ weights"
   ]
  },
  {
   "cell_type": "markdown",
   "metadata": {
    "id": "oXEmgTW_eETw"
   },
   "source": [
    "quantized tensors를 위해 `QFunctional` wrapper class를 사용할 수 있다."
   ]
  },
  {
   "cell_type": "code",
   "execution_count": 50,
   "metadata": {
    "id": "-3Cn4yZGGx47"
   },
   "outputs": [],
   "source": [
    "from torch.nn.quantized import QFunctional\n",
    "\n",
    "q_fn = QFunctional()"
   ]
  },
  {
   "cell_type": "code",
   "execution_count": 51,
   "metadata": {
    "colab": {
     "base_uri": "https://localhost:8080/"
    },
    "id": "_E4hfMtNd7un",
    "outputId": "02b81efa-8533-483c-d9e0-00fcf06f51e3"
   },
   "outputs": [
    {
     "name": "stdout",
     "output_type": "stream",
     "text": [
      "The slowest run took 33.24 times longer than the fastest. This could mean that an intermediate result is being cached.\n",
      "1000 loops, best of 5: 206 µs per loop\n"
     ]
    }
   ],
   "source": [
    "%%timeit\n",
    "q_fn.mul(quantized_weights, quantized_weights)"
   ]
  },
  {
   "cell_type": "code",
   "execution_count": 52,
   "metadata": {
    "colab": {
     "base_uri": "https://localhost:8080/"
    },
    "id": "wearNkBdd_Xq",
    "outputId": "f548bfef-7684-4fe7-e3ae-cce25da4b2af"
   },
   "outputs": [
    {
     "data": {
      "text/plain": [
       "3.999633833760527"
      ]
     },
     "execution_count": 52,
     "metadata": {},
     "output_type": "execute_result"
    }
   ],
   "source": [
    "import sys\n",
    "\n",
    "sys.getsizeof(weights.storage()) / sys.getsizeof(quantized_weights.storage())"
   ]
  },
  {
   "cell_type": "code",
   "execution_count": null,
   "metadata": {
    "id": "C4BH0CuBekJB"
   },
   "outputs": [],
   "source": [
    "from torch.quantization import quantize_dynamic\n",
    "from transformers import AutoTokenizer\n",
    "from transformers import AutoModelForSequenceClassification\n",
    "\n",
    "model_ckpt = \"transformersbook/distilbert-base-uncased-distilled-clinc\"\n",
    "tokenizer = AutoTokenizer.from_pretrained(model_ckpt)\n",
    "model = (AutoModelForSequenceClassification\n",
    "         .from_pretrained(model_ckpt).to(\"cpu\"))\n",
    "\n",
    "model_quantized = quantize_dynamic(model, {nn.Linear}, dtype=torch.qint8)"
   ]
  },
  {
   "cell_type": "markdown",
   "metadata": {
    "id": "cPw5N6GRe9Fa"
   },
   "source": [
    "# Benchmarking Our Quantized Model\n"
   ]
  },
  {
   "cell_type": "code",
   "execution_count": 54,
   "metadata": {
    "colab": {
     "base_uri": "https://localhost:8080/"
    },
    "id": "2GHgaVnAetaO",
    "outputId": "0a25b675-102f-4484-b228-e26d18726461"
   },
   "outputs": [
    {
     "name": "stdout",
     "output_type": "stream",
     "text": [
      "Model size (MB) - 132.40\n",
      "Average latency (ms) - 13.93 +\\- 1.17\n",
      "Accuracy on test set - 0.876\n"
     ]
    }
   ],
   "source": [
    "pipe = pipeline(\"text-classification\", model=model_quantized,\n",
    "                tokenizer=tokenizer)\n",
    "optim_type = \"Distillation + quantization\"\n",
    "pb = PerformanceBenchmark(pipe, clinc[\"test\"], optim_type=optim_type)\n",
    "perf_metrics.update(pb.run_benchmark())"
   ]
  },
  {
   "cell_type": "code",
   "execution_count": 55,
   "metadata": {
    "colab": {
     "base_uri": "https://localhost:8080/",
     "height": 283
    },
    "id": "bq2cU-jbfBg5",
    "outputId": "0f7fc83b-71b6-4272-de4e-fa902b844333"
   },
   "outputs": [
    {
     "data": {
      "image/png": "[encoded data removed]",
      "text/plain": [
       "<Figure size 432x288 with 1 Axes>"
      ]
     },
     "metadata": {
      "needs_background": "light"
     },
     "output_type": "display_data"
    }
   ],
   "source": [
    "plot_metrics(perf_metrics, optim_type)"
   ]
  },
  {
   "cell_type": "markdown",
   "metadata": {
    "id": "2lNYCWeqzoYl"
   },
   "source": [
    "# Optimizing Inference with ONNX and the ONNX Runtime\n",
    "ONNX는 연산 그래프(computational graph)를 standardized operators와 data types들로 추출해주는 프레임워크입니다. PyTorch와 TensorFlow간의 모델도 어느정도 스위칭 할 수 있습니다.\n",
    "\n",
    "\n",
    "![image](https://user-images.githubusercontent.com/7252598/146886460-851d758c-a5f4-40a0-b089-ae1cbd23ca43.png)\n",
    "\n",
    "ONNX는 ONNX Runtime 또는 ORT 같은 accelerator와 결합될 때 빛을 바랍니다. ORT는 ONNX 그래프를 최적화하는 툴입니다. \n",
    "\n",
    "![image](https://user-images.githubusercontent.com/7252598/146886908-f8746fbb-24f2-49d3-ac1c-2a3cb63bbfa0.png)\n",
    "\n",
    "transformers library에는 ONNX를 `convert_graph_to_onnx.convert()`라는 빌트인함수를 통해 사용할 수 있습니다. 이 함수를 쓰기 위한 몇가지 조건은 다음과 같습니다.\n",
    "\n",
    "- 모델을 `Pipeline` 형태로 초기화할 것\n",
    "- Dummy inputs을 파이프라인에 입력해서 ONNX가 연산그래프를 기록할 수 있게 할 것\n",
    "- dynamic axes를 정의해서 dynamic sequence lengths에 대응할 수 있게 할 것\n",
    "- 그래프를 network parameters와 저장할 것\n",
    "\n",
    "onnx를 사용하기 위해선 OpenMP 환경변수를 셋팅해줘야합니다. OpenMP는 고수준의 병렬화 어플리케이션을 개발하기 위해 설계된 API입니다. 다음과 같이 셋팅합니다.\n"
   ]
  },
  {
   "cell_type": "code",
   "execution_count": 56,
   "metadata": {
    "id": "O46FnCy8znlG"
   },
   "outputs": [],
   "source": [
    "import os\n",
    "from psutil import cpu_count\n",
    "\n",
    "os.environ[\"OMP_NUM_THREADS\"] = f\"{cpu_count()}\"\n",
    "os.environ[\"OMP_WAIT_POLICY\"] = \"ACTIVE\""
   ]
  },
  {
   "cell_type": "markdown",
   "metadata": {
    "id": "U-BOU10X2f1e"
   },
   "source": [
    "ONNX는 immutable operator 스펙을 그룹핑하기 위해 operator sets을 사용합니다. `opset=12`는 ONNX library의 특정 버전에 대응되는 값입니다. (중요)"
   ]
  },
  {
   "cell_type": "code",
   "execution_count": null,
   "metadata": {
    "id": "4tnDE0tx1cPE"
   },
   "outputs": [],
   "source": [
    "from transformers.convert_graph_to_onnx import convert\n",
    "\n",
    "model_ckpt = \"transformersbook/distilbert-base-uncased-distilled-clinc\"\n",
    "onnx_model_path = Path(\"onnx/model.onnx\")\n",
    "convert(framework=\"pt\", model=model_ckpt, tokenizer=tokenizer,\n",
    "        output=onnx_model_path, opset=12, pipeline_name=\"text-classification\")"
   ]
  },
  {
   "cell_type": "markdown",
   "metadata": {
    "id": "q-AiUI4t2Gfh"
   },
   "source": [
    "이제 모델을 저장하기 위해 inference session을 생성해서 inputs을 모델에 입력하겠습니다."
   ]
  },
  {
   "cell_type": "code",
   "execution_count": null,
   "metadata": {
    "id": "XN-Ii3gT3MGk"
   },
   "outputs": [],
   "source": [
    "!pip install onnx\n",
    "!pip install onnxruntime"
   ]
  },
  {
   "cell_type": "code",
   "execution_count": 59,
   "metadata": {
    "id": "x0Cfp9y-2A1P"
   },
   "outputs": [],
   "source": [
    "from onnxruntime import (GraphOptimizationLevel, InferenceSession,\n",
    "                         SessionOptions)\n",
    "\n",
    "def create_model_for_provider(model_path, provider=\"CPUExecutionProvider\"):\n",
    "    options = SessionOptions()\n",
    "    options.intra_op_num_threads = 1\n",
    "    options.graph_optimization_level = GraphOptimizationLevel.ORT_ENABLE_ALL\n",
    "    session = InferenceSession(str(model_path), options, providers=[provider])\n",
    "    session.disable_fallback()\n",
    "    return session"
   ]
  },
  {
   "cell_type": "code",
   "execution_count": 60,
   "metadata": {
    "id": "X1XxAH2W29ST"
   },
   "outputs": [],
   "source": [
    "onnx_model = create_model_for_provider(onnx_model_path)"
   ]
  },
  {
   "cell_type": "code",
   "execution_count": 61,
   "metadata": {
    "colab": {
     "base_uri": "https://localhost:8080/"
    },
    "id": "zqjyhTwi3XzT",
    "outputId": "bec0f5f5-a2dc-4dbe-8647-016f1f0b3b47"
   },
   "outputs": [
    {
     "data": {
      "text/plain": [
       "(1, 151)"
      ]
     },
     "execution_count": 61,
     "metadata": {},
     "output_type": "execute_result"
    }
   ],
   "source": [
    "inputs = clinc_enc[\"test\"][:1]\n",
    "del inputs[\"labels\"]\n",
    "logits_onnx = onnx_model.run(None, inputs)[0]\n",
    "logits_onnx.shape"
   ]
  },
  {
   "cell_type": "code",
   "execution_count": 62,
   "metadata": {
    "colab": {
     "base_uri": "https://localhost:8080/"
    },
    "id": "m9jR3lGm3m-l",
    "outputId": "bacd6a6d-b9f9-4262-b550-1652d44207f7"
   },
   "outputs": [
    {
     "data": {
      "text/plain": [
       "61"
      ]
     },
     "execution_count": 62,
     "metadata": {},
     "output_type": "execute_result"
    }
   ],
   "source": [
    "np.argmax(logits_onnx)"
   ]
  },
  {
   "cell_type": "code",
   "execution_count": 63,
   "metadata": {
    "colab": {
     "base_uri": "https://localhost:8080/"
    },
    "id": "Xhn0TqBv3pkN",
    "outputId": "2f2288a6-b4dc-4597-a923-3cdf5696ac31"
   },
   "outputs": [
    {
     "data": {
      "text/plain": [
       "61"
      ]
     },
     "execution_count": 63,
     "metadata": {},
     "output_type": "execute_result"
    }
   ],
   "source": [
    "clinc_enc[\"test\"][0][\"labels\"]"
   ]
  },
  {
   "cell_type": "markdown",
   "metadata": {
    "id": "PrpIbesI3vmP"
   },
   "source": [
    "ONNX 모델은 `text-classification` pipeline과 호환되지 않기 때문에, 비슷한 기능의 클래스를 직접 생성해줍니다."
   ]
  },
  {
   "cell_type": "code",
   "execution_count": 64,
   "metadata": {
    "id": "PdUwzMKa3rba"
   },
   "outputs": [],
   "source": [
    "from scipy.special import softmax\n",
    "\n",
    "class OnnxPipeline:\n",
    "    def __init__(self, model, tokenizer):\n",
    "        self.model = model\n",
    "        self.tokenizer = tokenizer\n",
    "\n",
    "    def __call__(self, query):\n",
    "        model_inputs = self.tokenizer(query, return_tensors=\"pt\")\n",
    "        inputs_onnx = {k: v.cpu().detach().numpy()\n",
    "                       for k, v in model_inputs.items()}\n",
    "        logits = self.model.run(None, inputs_onnx)[0][0, :]\n",
    "        probs = softmax(logits)\n",
    "        pred_idx = np.argmax(probs).item()\n",
    "        return [{\"label\": intents.int2str(pred_idx), \"score\": probs[pred_idx]}]"
   ]
  },
  {
   "cell_type": "code",
   "execution_count": 65,
   "metadata": {
    "colab": {
     "base_uri": "https://localhost:8080/"
    },
    "id": "l8HwIt2J34-G",
    "outputId": "089e3d02-9bf4-45ff-db76-2e94f788deca"
   },
   "outputs": [
    {
     "data": {
      "text/plain": [
       "[{'label': 'car_rental', 'score': 0.7848334}]"
      ]
     },
     "execution_count": 65,
     "metadata": {},
     "output_type": "execute_result"
    }
   ],
   "source": [
    "pipe = OnnxPipeline(onnx_model, tokenizer)\n",
    "pipe(query)"
   ]
  },
  {
   "cell_type": "markdown",
   "metadata": {
    "id": "r6E4tpoX39ii"
   },
   "source": [
    "기존에 사용하던 `PerformanceBenchmark` 클래스의 함수들은 사용하고, `compute_size()`를 오버라이딩 해줍니다. 기존 `compute_size()` 함수는 `state_dict`과 `torch.save()` 기반으로 동작했기 때문에, ONNX에 맞게 변경합니다. `onnx_model`은 ONNX의 `InferenceSession` object기 때문에, PyTorch의 `nn.Module` 속성에는 접근할 수 없습니다. "
   ]
  },
  {
   "cell_type": "code",
   "execution_count": 66,
   "metadata": {
    "id": "RvCJwvIq36mq"
   },
   "outputs": [],
   "source": [
    "class OnnxPerformanceBenchmark(PerformanceBenchmark):\n",
    "    def __init__(self, *args, model_path, **kwargs):\n",
    "        super().__init__(*args, **kwargs)\n",
    "        self.model_path = model_path\n",
    "\n",
    "    def compute_size(self):\n",
    "        size_mb = Path(self.model_path).stat().st_size / (1024 * 1024)\n",
    "        print(f\"Model size (MB) - {size_mb:.2f}\")\n",
    "        return {\"size_mb\": size_mb}"
   ]
  },
  {
   "cell_type": "code",
   "execution_count": 67,
   "metadata": {
    "colab": {
     "base_uri": "https://localhost:8080/"
    },
    "id": "pM0JA1f14rNf",
    "outputId": "631fb2b2-32c5-4ae4-f494-af374d65c8a7"
   },
   "outputs": [
    {
     "name": "stdout",
     "output_type": "stream",
     "text": [
      "Model size (MB) - 255.88\n",
      "Average latency (ms) - 23.09 +\\- 1.07\n",
      "Accuracy on test set - 0.868\n"
     ]
    }
   ],
   "source": [
    "optim_type = \"Distillation + ORT\"\n",
    "pb = OnnxPerformanceBenchmark(pipe, clinc[\"test\"], optim_type,\n",
    "                              model_path=\"onnx/model.onnx\")\n",
    "perf_metrics.update(pb.run_benchmark())"
   ]
  },
  {
   "cell_type": "code",
   "execution_count": 68,
   "metadata": {
    "colab": {
     "base_uri": "https://localhost:8080/",
     "height": 283
    },
    "id": "OMEgcMiA4tJL",
    "outputId": "d0f5e3f2-1524-4496-ea07-2908181bc7ac"
   },
   "outputs": [
    {
     "data": {
      "image/png": "[encoded data removed]",
      "text/plain": [
       "<Figure size 432x288 with 1 Axes>"
      ]
     },
     "metadata": {
      "needs_background": "light"
     },
     "output_type": "display_data"
    }
   ],
   "source": [
    "plot_metrics(perf_metrics, optim_type)"
   ]
  },
  {
   "cell_type": "markdown",
   "metadata": {
    "id": "wLIxgBVN6IZz"
   },
   "source": [
    "quantization을 적용해서 onnx 포멧으로 변경해보겠습니다."
   ]
  },
  {
   "cell_type": "code",
   "execution_count": 69,
   "metadata": {
    "id": "DVi0DdSZ522Y"
   },
   "outputs": [],
   "source": [
    "from onnxruntime.quantization import quantize_dynamic, QuantType\n",
    "\n",
    "model_input = \"onnx/model.onnx\"\n",
    "model_output = \"onnx/model.quant.onnx\"\n",
    "quantize_dynamic(model_input, model_output, weight_type=QuantType.QInt8)"
   ]
  },
  {
   "cell_type": "code",
   "execution_count": 70,
   "metadata": {
    "colab": {
     "base_uri": "https://localhost:8080/"
    },
    "id": "txLpgPkG6Rg5",
    "outputId": "c91a249c-2812-43a2-f77c-b17b607a0d3a"
   },
   "outputs": [
    {
     "name": "stdout",
     "output_type": "stream",
     "text": [
      "Model size (MB) - 64.20\n",
      "Average latency (ms) - 14.75 +\\- 2.25\n",
      "Accuracy on test set - 0.877\n"
     ]
    }
   ],
   "source": [
    "onnx_quantized_model = create_model_for_provider(model_output)\n",
    "pipe = OnnxPipeline(onnx_quantized_model, tokenizer)\n",
    "optim_type = \"Distillation + ORT (quantized)\"\n",
    "pb = OnnxPerformanceBenchmark(pipe, clinc[\"test\"], optim_type,\n",
    "                              model_path=model_output)\n",
    "perf_metrics.update(pb.run_benchmark())"
   ]
  },
  {
   "cell_type": "code",
   "execution_count": 72,
   "metadata": {
    "colab": {
     "base_uri": "https://localhost:8080/"
    },
    "id": "1GhQNLfvdwgE",
    "outputId": "f33eece3-1690-445f-bbe2-9e71b7d0f363"
   },
   "outputs": [
    {
     "data": {
      "text/plain": [
       "{'BERT baseline': {'accuracy': 0.8672727272727273,\n",
       "  'size_mb': 418.162091255188,\n",
       "  'time_avg_ms': 66.90917849000016,\n",
       "  'time_std_ms': 15.54450930778012},\n",
       " 'DistilBERT': {'accuracy': 0.8581818181818182,\n",
       "  'size_mb': 255.8870096206665,\n",
       "  'time_avg_ms': 23.56640914000309,\n",
       "  'time_std_ms': 1.5127073845396601},\n",
       " 'Distillation': {'accuracy': 0.8683636363636363,\n",
       "  'size_mb': 255.8870096206665,\n",
       "  'time_avg_ms': 23.070342589967368,\n",
       "  'time_std_ms': 1.6400368327444326},\n",
       " 'Distillation + ORT': {'accuracy': 0.8683636363636363,\n",
       "  'size_mb': 255.88444709777832,\n",
       "  'time_avg_ms': 23.087787130011748,\n",
       "  'time_std_ms': 1.0705494813903838},\n",
       " 'Distillation + ORT (quantized)': {'accuracy': 0.8765454545454545,\n",
       "  'size_mb': 64.20259952545166,\n",
       "  'time_avg_ms': 14.749559870015219,\n",
       "  'time_std_ms': 2.245130272348436},\n",
       " 'Distillation + quantization': {'accuracy': 0.8761818181818182,\n",
       "  'size_mb': 132.3966302871704,\n",
       "  'time_avg_ms': 13.932592399978603,\n",
       "  'time_std_ms': 1.1674458359456512}}"
      ]
     },
     "execution_count": 72,
     "metadata": {},
     "output_type": "execute_result"
    }
   ],
   "source": [
    "perf_metrics"
   ]
  },
  {
   "cell_type": "code",
   "execution_count": 73,
   "metadata": {
    "colab": {
     "base_uri": "https://localhost:8080/",
     "height": 283
    },
    "id": "1ueknKwi9oZ7",
    "outputId": "ae64cea6-6542-4024-a8cf-8b0b0b0ba770"
   },
   "outputs": [
    {
     "data": {
      "image/png": "[encoded data removed]",
      "text/plain": [
       "<Figure size 432x288 with 1 Axes>"
      ]
     },
     "metadata": {
      "needs_background": "light"
     },
     "output_type": "display_data"
    }
   ],
   "source": [
    "plot_metrics(perf_metrics, optim_type)"
   ]
  },
  {
   "cell_type": "markdown",
   "metadata": {
    "id": "qxLzhsOlJaUS"
   },
   "source": [
    "quantization을 적용할 때 모델 크기와 latency가 모두 감소하는 것을 확인할 수 있습니다. PyTorch는 `nn.Linear`모듈만 최적화하지만, ONNX는 embedding layer까지 quantization하기때문에 일반적으로는 효과가 좋습니다. \n",
    "\n",
    "이런 방법외에 다른 전략으로는 특정 weights를 지워버리는 weight pruning이라는 방법도 있습니다."
   ]
  }
 ],
 "metadata": {
  "accelerator": "GPU",
  "colab": {
   "collapsed_sections": [],
   "machine_shape": "hm",
   "name": "Making_Transformers_Efficient_in_Production.ipynb",
   "provenance": []
  },
  "kernelspec": {
   "display_name": "Python 3",
   "name": "python3"
  },
  "language_info": {
   "name": "python"
  }
 },
 "nbformat": 4,
 "nbformat_minor": 0
}